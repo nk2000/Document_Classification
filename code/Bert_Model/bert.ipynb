{
 "metadata": {
  "language_info": {
   "codemirror_mode": {
    "name": "ipython",
    "version": 3
   },
   "file_extension": ".py",
   "mimetype": "text/x-python",
   "name": "python",
   "nbconvert_exporter": "python",
   "pygments_lexer": "ipython3",
   "version": "3.6.9-final"
  },
  "orig_nbformat": 2,
  "kernelspec": {
   "name": "python3",
   "display_name": "Python 3.6.9 64-bit ('speller': conda)",
   "metadata": {
    "interpreter": {
     "hash": "f004e67df22de638fc0b182653e9eee592cf49ac1e8763b3fa1542a56699d278"
    }
   }
  }
 },
 "nbformat": 4,
 "nbformat_minor": 2,
 "cells": [
  {
   "source": [
    "# Explore the dataset"
   ],
   "cell_type": "markdown",
   "metadata": {}
  },
  {
   "cell_type": "code",
   "execution_count": 2,
   "metadata": {},
   "outputs": [],
   "source": [
    "from sklearn.datasets import fetch_20newsgroups\n",
    "import pandas as pd\n",
    "import numpy as np\n",
    "import os, sys\n",
    "import argparse\n",
    "\n",
    "import torch\n",
    "import torch.nn as nn\n",
    "import torch.optim as optim\n",
    "\n",
    "from bert_dataset import News20Dataset\n",
    "from sklearn.model_selection import train_test_split\n",
    "from sklearn.datasets import fetch_20newsgroups\n",
    "#from transformers import DistilBertForSequenceClassification, Trainer, TrainingArgument\n",
    "from transformers import BertConfig\n",
    "from transformers import BertForSequenceClassification\n",
    "\n",
    "from transformers import AdamW\n",
    "from torch.utils.data import DataLoader"
   ]
  },
  {
   "cell_type": "code",
   "execution_count": 3,
   "metadata": {},
   "outputs": [],
   "source": [
    "# the size of training dataset\n",
    "raw_data = fetch_20newsgroups(\n",
    "    data_home='data/news20',\n",
    "    subset='train',\n",
    "    categories=['sci.crypt', 'sci.electronics', 'sci.med', 'sci.space'],\n",
    "    shuffle=False,\n",
    "    remove=('headers', 'footers', 'quotes'))"
   ]
  },
  {
   "cell_type": "code",
   "execution_count": 7,
   "metadata": {},
   "outputs": [],
   "source": [
    "X, y = raw_data['data'], raw_data['target']\n",
    "X_train, X_test, y_train, y_test = train_test_split(\n",
    "    X, y, test_size=0.1, random_state=42) \n",
    "\n",
    "train_dataset = News20Dataset(X_train, y_train, \"../data/glove/glove.6B.300d.txt\", 200)\n",
    "val_dataset = News20Dataset(X_test, y_test, \"../data/glove/glove.6B.300d.txt\", 200) \n"
   ]
  },
  {
   "cell_type": "code",
   "execution_count": 8,
   "metadata": {},
   "outputs": [
    {
     "output_type": "stream",
     "name": "stderr",
     "text": [
      "Some weights of the model checkpoint at bert-base-uncased were not used when initializing BertForSequenceClassification: ['cls.predictions.bias', 'cls.predictions.transform.dense.weight', 'cls.predictions.transform.dense.bias', 'cls.predictions.decoder.weight', 'cls.seq_relationship.weight', 'cls.seq_relationship.bias', 'cls.predictions.transform.LayerNorm.weight', 'cls.predictions.transform.LayerNorm.bias']\n",
      "- This IS expected if you are initializing BertForSequenceClassification from the checkpoint of a model trained on another task or with another architecture (e.g. initializing a BertForSequenceClassification model from a BertForPreTraining model).\n",
      "- This IS NOT expected if you are initializing BertForSequenceClassification from the checkpoint of a model that you expect to be exactly identical (initializing a BertForSequenceClassification model from a BertForSequenceClassification model).\n",
      "Some weights of BertForSequenceClassification were not initialized from the model checkpoint at bert-base-uncased and are newly initialized: ['classifier.weight', 'classifier.bias']\n",
      "You should probably TRAIN this model on a down-stream task to be able to use it for predictions and inference.\n",
      "\n"
     ]
    }
   ],
   "source": [
    "model = BertForSequenceClassification.from_pretrained(pretrained_model_name_or_path ='bert-base-uncased',num_labels=4)\n",
    "model.train()\n",
    "print()"
   ]
  },
  {
   "cell_type": "code",
   "execution_count": 10,
   "metadata": {},
   "outputs": [],
   "source": [
    "no_decay = ['bias', 'LayerNorm.weight']\n",
    "optimizer_grouped_parameters = [\n",
    "    {'params': [p for n, p in model.named_parameters() if not any(nd in n for nd in no_decay)], 'weight_decay': 0.01},\n",
    "    {'params': [p for n, p in model.named_parameters() if any(nd in n for nd in no_decay)], 'weight_decay': 0.0}\n",
    "]\n",
    "optimizer = AdamW(optimizer_grouped_parameters, lr=1e-5)"
   ]
  },
  {
   "cell_type": "code",
   "execution_count": 11,
   "metadata": {},
   "outputs": [],
   "source": [
    "from transformers import BertTokenizer\n",
    "tokenizer = BertTokenizer.from_pretrained('bert-base-uncased')\n"
   ]
  },
  {
   "cell_type": "code",
   "execution_count": 12,
   "metadata": {},
   "outputs": [],
   "source": [
    "dev = torch.device(\n",
    "    \"cuda\") if torch.cuda.is_available() else torch.device(\"cpu\")"
   ]
  },
  {
   "cell_type": "code",
   "execution_count": 13,
   "metadata": {},
   "outputs": [],
   "source": [
    "class WrappedDataLoader:\n",
    "    def __init__(self, dl, func):\n",
    "        self.dl = dl\n",
    "        self.func = func\n",
    "\n",
    "    def __len__(self):\n",
    "        return len(self.dl)\n",
    "\n",
    "    def __iter__(self):\n",
    "        batches = iter(self.dl)\n",
    "        for b in batches:\n",
    "            yield (self.func(*b))\n",
    "            \n",
    "\n",
    "\n",
    "def get_preprocess(tokenizer,dev):\n",
    "    def preprocess(x, y):\n",
    "        encoding = tokenizer(x, return_tensors='pt', padding=True, truncation=True)\n",
    "        return encoding.to(dev), y.to(dev)\n",
    "    \n",
    "    return preprocess\n",
    "preprocess = get_preprocess(tokenizer, dev)\n",
    "val_dl = DataLoader(val_dataset, batch_size=1)\n",
    "train_dl = DataLoader(train_dataset, batch_size=5)\n",
    "\n",
    "val_dl = WrappedDataLoader(val_dl, preprocess)\n",
    "train_dl = WrappedDataLoader(train_dl, preprocess)\n"
   ]
  },
  {
   "cell_type": "code",
   "execution_count": 14,
   "metadata": {},
   "outputs": [
    {
     "output_type": "stream",
     "name": "stdout",
     "text": [
      "\n"
     ]
    }
   ],
   "source": [
    "model.to(dev)\n",
    "print()"
   ]
  },
  {
   "cell_type": "code",
   "execution_count": 16,
   "metadata": {},
   "outputs": [],
   "source": [
    "import numpy as np\n",
    "def model_eval(model, val_dl):\n",
    "    model.eval()\n",
    "    corr, total = 0, 0\n",
    "    pre = []\n",
    "    label = []\n",
    "    for i, (xb, yb) in enumerate(val_dl):\n",
    "            outputs = model(**xb)\n",
    "            pre += torch.argmax(outputs.logits,dim=1).tolist()\n",
    "            label += yb.tolist()\n",
    "    pre = np.array(pre)\n",
    "    label = np.array(label)\n",
    "    print('precision', np.sum(pre == label)/len(pre))\n",
    "    model.train()\n"
   ]
  },
  {
   "cell_type": "code",
   "execution_count": 17,
   "metadata": {},
   "outputs": [
    {
     "output_type": "stream",
     "name": "stdout",
     "text": [
      "iterate 0 loss 0.11\n",
      "iterate 100 loss 0.36\n",
      "iterate 200 loss 0.34\n",
      "iterate 300 loss 0.03\n",
      "iterate 400 loss 0.02\n",
      "precision 0.9369747899159664\n",
      "iterate 0 loss 0.03\n",
      "iterate 100 loss 0.51\n",
      "iterate 200 loss 0.33\n",
      "iterate 300 loss 0.01\n",
      "iterate 400 loss 0.01\n",
      "precision 0.9159663865546218\n",
      "iterate 0 loss 0.02\n",
      "iterate 100 loss 0.43\n",
      "iterate 200 loss 0.32\n",
      "iterate 300 loss 0.03\n",
      "iterate 400 loss 0.00\n",
      "precision 0.9285714285714286\n",
      "iterate 0 loss 0.01\n",
      "iterate 100 loss 0.34\n",
      "iterate 200 loss 0.29\n",
      "iterate 300 loss 0.00\n",
      "iterate 400 loss 0.00\n",
      "precision 0.9159663865546218\n",
      "iterate 0 loss 0.01\n",
      "iterate 100 loss 0.31\n",
      "iterate 200 loss 0.25\n",
      "iterate 300 loss 0.00\n",
      "iterate 400 loss 0.00\n",
      "precision 0.9369747899159664\n"
     ]
    }
   ],
   "source": [
    "for epoch in range(5):\n",
    "    for i, (xb, yb) in enumerate(train_dl):\n",
    "        outputs = model(**xb, labels=yb)\n",
    "        loss = outputs.loss\n",
    "        loss.backward()\n",
    "        optimizer.step()\n",
    "        optimizer.zero_grad()\n",
    "\n",
    "        if i % 100==0:\n",
    "            print('iterate %d loss %.2f' %(i, loss))\n",
    "    model_eval(model, val_dl)"
   ]
  },
  {
   "cell_type": "code",
   "execution_count": 21,
   "metadata": {},
   "outputs": [],
   "source": [
    "model_eval(model, val_dl)"
   ]
  },
  {
   "cell_type": "code",
   "execution_count": 17,
   "metadata": {},
   "outputs": [
    {
     "output_type": "stream",
     "name": "stdout",
     "text": [
      "\n"
     ]
    }
   ],
   "source": [
    "model.eval()\n",
    "print()"
   ]
  }
 ]
}